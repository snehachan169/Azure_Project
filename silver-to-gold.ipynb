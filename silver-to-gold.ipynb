{
 "cells": [
  {
   "cell_type": "code",
   "execution_count": 0,
   "metadata": {
    "application/vnd.databricks.v1+cell": {
     "cellMetadata": {
      "byteLimit": 2048000,
      "rowLimit": 10000
     },
     "inputWidgets": {},
     "nuid": "89de3c43-8b01-4586-9205-3a65b4529a71",
     "showTitle": false,
     "tableResultSettingsMap": {},
     "title": ""
    }
   },
   "outputs": [
    {
     "output_type": "stream",
     "name": "stdout",
     "output_type": "stream",
     "text": [
      "/mnt/gold has been unmounted.\n"
     ]
    },
    {
     "output_type": "execute_result",
     "data": {
      "text/plain": [
       "True"
      ]
     },
     "execution_count": 2,
     "metadata": {},
     "output_type": "execute_result"
    }
   ],
   "source": [
    "dbutils.fs.unmount(\"/mnt/gold\")"
   ]
  },
  {
   "cell_type": "code",
   "execution_count": 0,
   "metadata": {
    "application/vnd.databricks.v1+cell": {
     "cellMetadata": {
      "byteLimit": 2048000,
      "rowLimit": 10000
     },
     "inputWidgets": {},
     "nuid": "2a833950-0fc0-44c7-a7dd-c45e37048424",
     "showTitle": false,
     "tableResultSettingsMap": {},
     "title": ""
    }
   },
   "outputs": [
    {
     "output_type": "execute_result",
     "data": {
      "text/plain": [
       "True"
      ]
     },
     "execution_count": 3,
     "metadata": {},
     "output_type": "execute_result"
    }
   ],
   "source": [
    "dbutils.fs.mount(\n",
    "  source = \"wasbs://gold@hpprojectstorage.blob.core.windows.net/\",\n",
    "  mount_point = \"/mnt/gold\",\n",
    "  extra_configs = {\n",
    "    \"fs.azure.account.key.hpprojectstorage.blob.core.windows.net\": \"BSGZZB0E8U7vT2bL5MFw2XT1HMn7wP4qxhAdmrYdWyl6GOyphll6xgZGdkw7CWWaWEf2NlmuUl7I+ASttg6KwQ==\"\n",
    "  }\n",
    ")\n"
   ]
  },
  {
   "cell_type": "markdown",
   "metadata": {
    "application/vnd.databricks.v1+cell": {
     "cellMetadata": {},
     "inputWidgets": {},
     "nuid": "71e990fb-7bd9-48c9-9df9-4a1fa8e33273",
     "showTitle": false,
     "tableResultSettingsMap": {},
     "title": ""
    }
   },
   "source": [
    "As this small data and cleaned properly in silver layer. I'm just moving this as-is to gold layer"
   ]
  },
  {
   "cell_type": "code",
   "execution_count": 0,
   "metadata": {
    "application/vnd.databricks.v1+cell": {
     "cellMetadata": {
      "byteLimit": 2048000,
      "rowLimit": 10000
     },
     "inputWidgets": {},
     "nuid": "f557d657-db3a-4be3-87bf-d837c8c55a81",
     "showTitle": false,
     "tableResultSettingsMap": {},
     "title": ""
    }
   },
   "outputs": [],
   "source": [
    "# Read all Silver tables\n",
    "df_patients = spark.read.parquet(\"/mnt/silver/dbo/patients\")\n",
    "df_encounters = spark.read.parquet(\"/mnt/silver/dbo/encounters\")\n",
    "df_organizations = spark.read.parquet(\"/mnt/silver/dbo/organizations\")\n",
    "df_payers = spark.read.parquet(\"/mnt/silver/dbo/payers\")\n",
    "df_procedures = spark.read.parquet(\"/mnt/silver/dbo/procedures\")\n",
    "\n",
    "# Save them as-is into Gold\n",
    "df_patients.write.mode(\"overwrite\").parquet(\"/mnt/gold/patients\")\n",
    "df_encounters.write.mode(\"overwrite\").parquet(\"/mnt/gold/encounters\")\n",
    "df_organizations.write.mode(\"overwrite\").parquet(\"/mnt/gold/organizations\")\n",
    "df_payers.write.mode(\"overwrite\").parquet(\"/mnt/gold/payers\")\n",
    "df_procedures.write.mode(\"overwrite\").parquet(\"/mnt/gold/procedures\")\n"
   ]
  },
  {
   "cell_type": "code",
   "execution_count": 0,
   "metadata": {
    "application/vnd.databricks.v1+cell": {
     "cellMetadata": {},
     "inputWidgets": {},
     "nuid": "54316c08-9e33-4861-8cac-4028038fb4a9",
     "showTitle": false,
     "tableResultSettingsMap": {},
     "title": ""
    }
   },
   "outputs": [],
   "source": []
  }
 ],
 "metadata": {
  "application/vnd.databricks.v1+notebook": {
   "computePreferences": null,
   "dashboards": [],
   "environmentMetadata": {
    "base_environment": "",
    "environment_version": "2"
   },
   "inputWidgetPreferences": null,
   "language": "python",
   "notebookMetadata": {
    "pythonIndentUnit": 4
   },
   "notebookName": "silver-to-gold",
   "widgets": {}
  },
  "language_info": {
   "name": "python"
  }
 },
 "nbformat": 4,
 "nbformat_minor": 0
}